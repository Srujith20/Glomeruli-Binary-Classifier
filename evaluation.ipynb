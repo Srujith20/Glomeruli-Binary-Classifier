{
  "nbformat": 4,
  "nbformat_minor": 0,
  "metadata": {
    "colab": {
      "provenance": [],
      "mount_file_id": "1lBUDWUYHO-BdvGv6zRs_F3EOMuU9IiW1",
      "authorship_tag": "ABX9TyMANNaHI5ovmrj/fe7XPOKi",
      "include_colab_link": true
    },
    "kernelspec": {
      "name": "python3",
      "display_name": "Python 3"
    },
    "language_info": {
      "name": "python"
    }
  },
  "cells": [
    {
      "cell_type": "markdown",
      "metadata": {
        "id": "view-in-github",
        "colab_type": "text"
      },
      "source": [
        "<a href=\"https://colab.research.google.com/github/Srujith20/Glomeruli-Binary-Classifier/blob/main/evaluation.ipynb\" target=\"_parent\"><img src=\"https://colab.research.google.com/assets/colab-badge.svg\" alt=\"Open In Colab\"/></a>"
      ]
    },
    {
      "cell_type": "code",
      "execution_count": 1,
      "metadata": {
        "colab": {
          "base_uri": "https://localhost:8080/"
        },
        "id": "u1Js8TeP0vTq",
        "outputId": "89c46bc3-822a-46cd-f5a0-958cf46e81ad"
      },
      "outputs": [
        {
          "output_type": "stream",
          "name": "stdout",
          "text": [
            "Enter the location of the folder containing images: /content/drive/MyDrive/Flower/Toy\n",
            "Enter the location of the model file: /content/drive/MyDrive/Glomeruli Models/mobilenet_glomeruli_classifier.h5\n",
            "1/1 [==============================] - 3s 3s/step\n",
            "1/1 [==============================] - 0s 83ms/step\n",
            "1/1 [==============================] - 0s 87ms/step\n",
            "1/1 [==============================] - 0s 95ms/step\n",
            "1/1 [==============================] - 0s 88ms/step\n",
            "1/1 [==============================] - 0s 97ms/step\n",
            "1/1 [==============================] - 0s 86ms/step\n",
            "Predictions saved to evaluation.csv\n"
          ]
        }
      ],
      "source": [
        "import os\n",
        "import pandas as pd\n",
        "import tensorflow as tf\n",
        "\n",
        "# Function to load the model and make predictions\n",
        "def predict_from_folder(folder_path, model_path):\n",
        "    # Load the model\n",
        "    model = tf.keras.models.load_model(model_path)\n",
        "\n",
        "    # Get a list of image files in the folder\n",
        "    image_files = [os.path.join(folder_path, f) for f in os.listdir(folder_path) if os.path.isfile(os.path.join(folder_path, f))]\n",
        "\n",
        "    # Make predictions for each image\n",
        "    predictions = []\n",
        "    for image_file in image_files:\n",
        "        # Preprocess the image\n",
        "        # (Add preprocessing steps if needed, e.g., resizing)\n",
        "        img = tf.keras.preprocessing.image.load_img(image_file, target_size=(160, 160))\n",
        "        img_array = tf.keras.preprocessing.image.img_to_array(img)\n",
        "        img_array = tf.expand_dims(img_array, 0)  # Create a batch\n",
        "\n",
        "        # Make prediction\n",
        "        prediction = model.predict(img_array)\n",
        "        predicted_class = 1 if prediction[0][0] >= 0.5 else 0\n",
        "\n",
        "        # Store the prediction\n",
        "        predictions.append((os.path.basename(image_file), predicted_class))\n",
        "\n",
        "    return predictions\n",
        "\n",
        "# Function to save predictions to a CSV file\n",
        "def save_predictions_to_csv(predictions, output_file):\n",
        "    df = pd.DataFrame(predictions, columns=['Name', 'Predicted_Class'])\n",
        "    df.to_csv(output_file, index=False)\n",
        "\n",
        "if __name__ == \"__main__\":\n",
        "    # Prompt user to enter folder path and model path\n",
        "    folder_path = input(\"Enter the location of the folder containing images: \")\n",
        "    model_path = input(\"Enter the location of the model file: \")\n",
        "\n",
        "    # Predict from the folder\n",
        "    predictions = predict_from_folder(folder_path, model_path)\n",
        "\n",
        "    # Save predictions to CSV file in the same location as the model\n",
        "    model_dir = os.path.dirname(os.path.abspath(model_path))\n",
        "    output_file = os.path.join(model_dir, 'evaluation.csv')\n",
        "    save_predictions_to_csv(predictions, output_file)\n",
        "\n",
        "    print(\"Predictions saved to evaluation.csv\")\n"
      ]
    }
  ]
}